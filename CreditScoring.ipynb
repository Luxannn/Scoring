{
 "cells": [
  {
   "cell_type": "code",
   "execution_count": 1,
   "id": "3ed75053",
   "metadata": {},
   "outputs": [],
   "source": [
    "import pandas as pd"
   ]
  },
  {
   "cell_type": "code",
   "execution_count": 2,
   "id": "b51562c9",
   "metadata": {},
   "outputs": [],
   "source": [
    "data = pd.read_csv ( 'credit_risk_dataset.csv')"
   ]
  },
  {
   "cell_type": "code",
   "execution_count": 3,
   "id": "1125506a",
   "metadata": {},
   "outputs": [
    {
     "data": {
      "text/html": [
       "<div>\n",
       "<style scoped>\n",
       "    .dataframe tbody tr th:only-of-type {\n",
       "        vertical-align: middle;\n",
       "    }\n",
       "\n",
       "    .dataframe tbody tr th {\n",
       "        vertical-align: top;\n",
       "    }\n",
       "\n",
       "    .dataframe thead th {\n",
       "        text-align: right;\n",
       "    }\n",
       "</style>\n",
       "<table border=\"1\" class=\"dataframe\">\n",
       "  <thead>\n",
       "    <tr style=\"text-align: right;\">\n",
       "      <th></th>\n",
       "      <th>person_age</th>\n",
       "      <th>person_income</th>\n",
       "      <th>person_home_ownership</th>\n",
       "      <th>person_emp_length</th>\n",
       "      <th>loan_intent</th>\n",
       "      <th>loan_grade</th>\n",
       "      <th>loan_amnt</th>\n",
       "      <th>loan_int_rate</th>\n",
       "      <th>loan_status</th>\n",
       "      <th>loan_percent_income</th>\n",
       "      <th>cb_person_default_on_file</th>\n",
       "      <th>cb_person_cred_hist_length</th>\n",
       "    </tr>\n",
       "  </thead>\n",
       "  <tbody>\n",
       "    <tr>\n",
       "      <th>0</th>\n",
       "      <td>22</td>\n",
       "      <td>59000</td>\n",
       "      <td>RENT</td>\n",
       "      <td>123.0</td>\n",
       "      <td>PERSONAL</td>\n",
       "      <td>D</td>\n",
       "      <td>35000</td>\n",
       "      <td>16.02</td>\n",
       "      <td>1</td>\n",
       "      <td>0.59</td>\n",
       "      <td>Y</td>\n",
       "      <td>3</td>\n",
       "    </tr>\n",
       "    <tr>\n",
       "      <th>1</th>\n",
       "      <td>21</td>\n",
       "      <td>9600</td>\n",
       "      <td>OWN</td>\n",
       "      <td>5.0</td>\n",
       "      <td>EDUCATION</td>\n",
       "      <td>B</td>\n",
       "      <td>1000</td>\n",
       "      <td>11.14</td>\n",
       "      <td>0</td>\n",
       "      <td>0.10</td>\n",
       "      <td>N</td>\n",
       "      <td>2</td>\n",
       "    </tr>\n",
       "    <tr>\n",
       "      <th>2</th>\n",
       "      <td>25</td>\n",
       "      <td>9600</td>\n",
       "      <td>MORTGAGE</td>\n",
       "      <td>1.0</td>\n",
       "      <td>MEDICAL</td>\n",
       "      <td>C</td>\n",
       "      <td>5500</td>\n",
       "      <td>12.87</td>\n",
       "      <td>1</td>\n",
       "      <td>0.57</td>\n",
       "      <td>N</td>\n",
       "      <td>3</td>\n",
       "    </tr>\n",
       "    <tr>\n",
       "      <th>3</th>\n",
       "      <td>23</td>\n",
       "      <td>65500</td>\n",
       "      <td>RENT</td>\n",
       "      <td>4.0</td>\n",
       "      <td>MEDICAL</td>\n",
       "      <td>C</td>\n",
       "      <td>35000</td>\n",
       "      <td>15.23</td>\n",
       "      <td>1</td>\n",
       "      <td>0.53</td>\n",
       "      <td>N</td>\n",
       "      <td>2</td>\n",
       "    </tr>\n",
       "    <tr>\n",
       "      <th>4</th>\n",
       "      <td>24</td>\n",
       "      <td>54400</td>\n",
       "      <td>RENT</td>\n",
       "      <td>8.0</td>\n",
       "      <td>MEDICAL</td>\n",
       "      <td>C</td>\n",
       "      <td>35000</td>\n",
       "      <td>14.27</td>\n",
       "      <td>1</td>\n",
       "      <td>0.55</td>\n",
       "      <td>Y</td>\n",
       "      <td>4</td>\n",
       "    </tr>\n",
       "    <tr>\n",
       "      <th>...</th>\n",
       "      <td>...</td>\n",
       "      <td>...</td>\n",
       "      <td>...</td>\n",
       "      <td>...</td>\n",
       "      <td>...</td>\n",
       "      <td>...</td>\n",
       "      <td>...</td>\n",
       "      <td>...</td>\n",
       "      <td>...</td>\n",
       "      <td>...</td>\n",
       "      <td>...</td>\n",
       "      <td>...</td>\n",
       "    </tr>\n",
       "    <tr>\n",
       "      <th>32576</th>\n",
       "      <td>57</td>\n",
       "      <td>53000</td>\n",
       "      <td>MORTGAGE</td>\n",
       "      <td>1.0</td>\n",
       "      <td>PERSONAL</td>\n",
       "      <td>C</td>\n",
       "      <td>5800</td>\n",
       "      <td>13.16</td>\n",
       "      <td>0</td>\n",
       "      <td>0.11</td>\n",
       "      <td>N</td>\n",
       "      <td>30</td>\n",
       "    </tr>\n",
       "    <tr>\n",
       "      <th>32577</th>\n",
       "      <td>54</td>\n",
       "      <td>120000</td>\n",
       "      <td>MORTGAGE</td>\n",
       "      <td>4.0</td>\n",
       "      <td>PERSONAL</td>\n",
       "      <td>A</td>\n",
       "      <td>17625</td>\n",
       "      <td>7.49</td>\n",
       "      <td>0</td>\n",
       "      <td>0.15</td>\n",
       "      <td>N</td>\n",
       "      <td>19</td>\n",
       "    </tr>\n",
       "    <tr>\n",
       "      <th>32578</th>\n",
       "      <td>65</td>\n",
       "      <td>76000</td>\n",
       "      <td>RENT</td>\n",
       "      <td>3.0</td>\n",
       "      <td>HOMEIMPROVEMENT</td>\n",
       "      <td>B</td>\n",
       "      <td>35000</td>\n",
       "      <td>10.99</td>\n",
       "      <td>1</td>\n",
       "      <td>0.46</td>\n",
       "      <td>N</td>\n",
       "      <td>28</td>\n",
       "    </tr>\n",
       "    <tr>\n",
       "      <th>32579</th>\n",
       "      <td>56</td>\n",
       "      <td>150000</td>\n",
       "      <td>MORTGAGE</td>\n",
       "      <td>5.0</td>\n",
       "      <td>PERSONAL</td>\n",
       "      <td>B</td>\n",
       "      <td>15000</td>\n",
       "      <td>11.48</td>\n",
       "      <td>0</td>\n",
       "      <td>0.10</td>\n",
       "      <td>N</td>\n",
       "      <td>26</td>\n",
       "    </tr>\n",
       "    <tr>\n",
       "      <th>32580</th>\n",
       "      <td>66</td>\n",
       "      <td>42000</td>\n",
       "      <td>RENT</td>\n",
       "      <td>2.0</td>\n",
       "      <td>MEDICAL</td>\n",
       "      <td>B</td>\n",
       "      <td>6475</td>\n",
       "      <td>9.99</td>\n",
       "      <td>0</td>\n",
       "      <td>0.15</td>\n",
       "      <td>N</td>\n",
       "      <td>30</td>\n",
       "    </tr>\n",
       "  </tbody>\n",
       "</table>\n",
       "<p>32581 rows × 12 columns</p>\n",
       "</div>"
      ],
      "text/plain": [
       "       person_age  person_income person_home_ownership  person_emp_length  \\\n",
       "0              22          59000                  RENT              123.0   \n",
       "1              21           9600                   OWN                5.0   \n",
       "2              25           9600              MORTGAGE                1.0   \n",
       "3              23          65500                  RENT                4.0   \n",
       "4              24          54400                  RENT                8.0   \n",
       "...           ...            ...                   ...                ...   \n",
       "32576          57          53000              MORTGAGE                1.0   \n",
       "32577          54         120000              MORTGAGE                4.0   \n",
       "32578          65          76000                  RENT                3.0   \n",
       "32579          56         150000              MORTGAGE                5.0   \n",
       "32580          66          42000                  RENT                2.0   \n",
       "\n",
       "           loan_intent loan_grade  loan_amnt  loan_int_rate  loan_status  \\\n",
       "0             PERSONAL          D      35000          16.02            1   \n",
       "1            EDUCATION          B       1000          11.14            0   \n",
       "2              MEDICAL          C       5500          12.87            1   \n",
       "3              MEDICAL          C      35000          15.23            1   \n",
       "4              MEDICAL          C      35000          14.27            1   \n",
       "...                ...        ...        ...            ...          ...   \n",
       "32576         PERSONAL          C       5800          13.16            0   \n",
       "32577         PERSONAL          A      17625           7.49            0   \n",
       "32578  HOMEIMPROVEMENT          B      35000          10.99            1   \n",
       "32579         PERSONAL          B      15000          11.48            0   \n",
       "32580          MEDICAL          B       6475           9.99            0   \n",
       "\n",
       "       loan_percent_income cb_person_default_on_file  \\\n",
       "0                     0.59                         Y   \n",
       "1                     0.10                         N   \n",
       "2                     0.57                         N   \n",
       "3                     0.53                         N   \n",
       "4                     0.55                         Y   \n",
       "...                    ...                       ...   \n",
       "32576                 0.11                         N   \n",
       "32577                 0.15                         N   \n",
       "32578                 0.46                         N   \n",
       "32579                 0.10                         N   \n",
       "32580                 0.15                         N   \n",
       "\n",
       "       cb_person_cred_hist_length  \n",
       "0                               3  \n",
       "1                               2  \n",
       "2                               3  \n",
       "3                               2  \n",
       "4                               4  \n",
       "...                           ...  \n",
       "32576                          30  \n",
       "32577                          19  \n",
       "32578                          28  \n",
       "32579                          26  \n",
       "32580                          30  \n",
       "\n",
       "[32581 rows x 12 columns]"
      ]
     },
     "execution_count": 3,
     "metadata": {},
     "output_type": "execute_result"
    }
   ],
   "source": [
    "data"
   ]
  },
  {
   "cell_type": "code",
   "execution_count": 4,
   "id": "e5a602c1",
   "metadata": {},
   "outputs": [
    {
     "name": "stdout",
     "output_type": "stream",
     "text": [
      "<class 'pandas.core.frame.DataFrame'>\n",
      "RangeIndex: 32581 entries, 0 to 32580\n",
      "Data columns (total 12 columns):\n",
      " #   Column                      Non-Null Count  Dtype  \n",
      "---  ------                      --------------  -----  \n",
      " 0   person_age                  32581 non-null  int64  \n",
      " 1   person_income               32581 non-null  int64  \n",
      " 2   person_home_ownership       32581 non-null  object \n",
      " 3   person_emp_length           31686 non-null  float64\n",
      " 4   loan_intent                 32581 non-null  object \n",
      " 5   loan_grade                  32581 non-null  object \n",
      " 6   loan_amnt                   32581 non-null  int64  \n",
      " 7   loan_int_rate               29465 non-null  float64\n",
      " 8   loan_status                 32581 non-null  int64  \n",
      " 9   loan_percent_income         32581 non-null  float64\n",
      " 10  cb_person_default_on_file   32581 non-null  object \n",
      " 11  cb_person_cred_hist_length  32581 non-null  int64  \n",
      "dtypes: float64(3), int64(5), object(4)\n",
      "memory usage: 3.0+ MB\n"
     ]
    }
   ],
   "source": [
    "data.info()"
   ]
  },
  {
   "cell_type": "code",
   "execution_count": 5,
   "id": "5b0696b7",
   "metadata": {},
   "outputs": [
    {
     "data": {
      "text/plain": [
       "person_home_ownership\n",
       "RENT        16446\n",
       "MORTGAGE    13444\n",
       "OWN          2584\n",
       "OTHER         107\n",
       "Name: count, dtype: int64"
      ]
     },
     "execution_count": 5,
     "metadata": {},
     "output_type": "execute_result"
    }
   ],
   "source": [
    "data['person_home_ownership'].value_counts()"
   ]
  },
  {
   "cell_type": "code",
   "execution_count": 10,
   "id": "6418dfcc",
   "metadata": {},
   "outputs": [],
   "source": [
    "data.loc[data['person_home_ownership']=='RENT' , 'home_own'] = 0  \n",
    "data.loc[data['person_home_ownership']=='MORTGAGE' , 'home_own'] = 1\n",
    "data.loc[data['person_home_ownership']=='OWN' , 'home_own'] = 2\n",
    "data.loc[data['person_home_ownership']=='OTHER' , 'home_own'] = 3"
   ]
  },
  {
   "cell_type": "code",
   "execution_count": 12,
   "id": "8437b6e6",
   "metadata": {},
   "outputs": [],
   "source": [
    "data = data.drop(['person_home_ownership'] , axis=1)"
   ]
  },
  {
   "cell_type": "code",
   "execution_count": 15,
   "id": "807499c7",
   "metadata": {},
   "outputs": [
    {
     "data": {
      "text/plain": [
       "loan_intent\n",
       "EDUCATION            6453\n",
       "MEDICAL              6071\n",
       "VENTURE              5719\n",
       "PERSONAL             5521\n",
       "DEBTCONSOLIDATION    5212\n",
       "HOMEIMPROVEMENT      3605\n",
       "Name: count, dtype: int64"
      ]
     },
     "execution_count": 15,
     "metadata": {},
     "output_type": "execute_result"
    }
   ],
   "source": [
    "data['loan_intent'].value_counts()"
   ]
  },
  {
   "cell_type": "code",
   "execution_count": 16,
   "id": "c20802b4",
   "metadata": {},
   "outputs": [],
   "source": [
    "data.loc[data['loan_intent']=='EDUCATION' , 'loan_intentt'] = 0  \n",
    "data.loc[data['loan_intent']=='MEDICAL' , 'loan_intentt'] = 1\n",
    "data.loc[data['loan_intent']=='VENTURE' , 'loan_intentt'] = 2\n",
    "data.loc[data['loan_intent']=='PERSONAL' , 'loan_intentt'] = 3\n",
    "data.loc[data['loan_intent']=='DEBTCONSOLIDATION' , 'loan_intentt'] = 4\n",
    "data.loc[data['loan_intent']=='HOMEIMPROVEMENT' , 'loan_intentt'] = 5"
   ]
  },
  {
   "cell_type": "code",
   "execution_count": 18,
   "id": "799385a7",
   "metadata": {},
   "outputs": [],
   "source": [
    "data = data.drop(['loan_intent'] , axis=1)"
   ]
  },
  {
   "cell_type": "code",
   "execution_count": 20,
   "id": "6c5e8bb7",
   "metadata": {},
   "outputs": [
    {
     "data": {
      "text/plain": [
       "loan_grade\n",
       "A    10777\n",
       "B    10451\n",
       "C     6458\n",
       "D     3626\n",
       "E      964\n",
       "F      241\n",
       "G       64\n",
       "Name: count, dtype: int64"
      ]
     },
     "execution_count": 20,
     "metadata": {},
     "output_type": "execute_result"
    }
   ],
   "source": [
    "data['loan_grade'].value_counts()"
   ]
  },
  {
   "cell_type": "code",
   "execution_count": 22,
   "id": "189eca9f",
   "metadata": {},
   "outputs": [],
   "source": [
    "data.loc[data['loan_grade']=='A' , 'loan_gradee'] = 0  \n",
    "data.loc[data['loan_grade']=='B' , 'loan_gradee'] = 1\n",
    "data.loc[data['loan_grade']=='C' , 'loan_gradee'] = 2\n",
    "data.loc[data['loan_grade']=='D' , 'loan_gradee'] = 3\n",
    "data.loc[data['loan_grade']=='E' , 'loan_gradee'] = 4\n",
    "data.loc[data['loan_grade']=='F' , 'loan_gradee'] = 5\n",
    "data.loc[data['loan_grade']=='G' , 'loan_gradee'] = 6"
   ]
  },
  {
   "cell_type": "code",
   "execution_count": 24,
   "id": "b8b33e2a",
   "metadata": {},
   "outputs": [],
   "source": [
    "data = data.drop(['loan_grade'] , axis=1)"
   ]
  },
  {
   "cell_type": "code",
   "execution_count": 27,
   "id": "21fd0e4c",
   "metadata": {},
   "outputs": [
    {
     "data": {
      "text/plain": [
       "cb_person_default_on_file\n",
       "N    26836\n",
       "Y     5745\n",
       "Name: count, dtype: int64"
      ]
     },
     "execution_count": 27,
     "metadata": {},
     "output_type": "execute_result"
    }
   ],
   "source": [
    "data['cb_person_default_on_file'].value_counts()"
   ]
  },
  {
   "cell_type": "code",
   "execution_count": 28,
   "id": "6af4f1d7",
   "metadata": {},
   "outputs": [],
   "source": [
    "from sklearn.preprocessing import LabelEncoder"
   ]
  },
  {
   "cell_type": "code",
   "execution_count": 29,
   "id": "86766bc8",
   "metadata": {},
   "outputs": [],
   "source": [
    "label_encoder = LabelEncoder()\n",
    "    \n",
    "data['cb_person_default_on_file'] = label_encoder.fit_transform(data['cb_person_default_on_file'])"
   ]
  },
  {
   "cell_type": "code",
   "execution_count": 30,
   "id": "2ffcaaf0",
   "metadata": {},
   "outputs": [
    {
     "data": {
      "text/html": [
       "<div>\n",
       "<style scoped>\n",
       "    .dataframe tbody tr th:only-of-type {\n",
       "        vertical-align: middle;\n",
       "    }\n",
       "\n",
       "    .dataframe tbody tr th {\n",
       "        vertical-align: top;\n",
       "    }\n",
       "\n",
       "    .dataframe thead th {\n",
       "        text-align: right;\n",
       "    }\n",
       "</style>\n",
       "<table border=\"1\" class=\"dataframe\">\n",
       "  <thead>\n",
       "    <tr style=\"text-align: right;\">\n",
       "      <th></th>\n",
       "      <th>person_age</th>\n",
       "      <th>person_income</th>\n",
       "      <th>person_emp_length</th>\n",
       "      <th>loan_amnt</th>\n",
       "      <th>loan_int_rate</th>\n",
       "      <th>loan_status</th>\n",
       "      <th>loan_percent_income</th>\n",
       "      <th>cb_person_default_on_file</th>\n",
       "      <th>cb_person_cred_hist_length</th>\n",
       "      <th>home_own</th>\n",
       "      <th>loan_intentt</th>\n",
       "      <th>loan_gradee</th>\n",
       "    </tr>\n",
       "  </thead>\n",
       "  <tbody>\n",
       "    <tr>\n",
       "      <th>0</th>\n",
       "      <td>22</td>\n",
       "      <td>59000</td>\n",
       "      <td>123.0</td>\n",
       "      <td>35000</td>\n",
       "      <td>16.02</td>\n",
       "      <td>1</td>\n",
       "      <td>0.59</td>\n",
       "      <td>1</td>\n",
       "      <td>3</td>\n",
       "      <td>0.0</td>\n",
       "      <td>3.0</td>\n",
       "      <td>3.0</td>\n",
       "    </tr>\n",
       "    <tr>\n",
       "      <th>1</th>\n",
       "      <td>21</td>\n",
       "      <td>9600</td>\n",
       "      <td>5.0</td>\n",
       "      <td>1000</td>\n",
       "      <td>11.14</td>\n",
       "      <td>0</td>\n",
       "      <td>0.10</td>\n",
       "      <td>0</td>\n",
       "      <td>2</td>\n",
       "      <td>2.0</td>\n",
       "      <td>0.0</td>\n",
       "      <td>1.0</td>\n",
       "    </tr>\n",
       "    <tr>\n",
       "      <th>2</th>\n",
       "      <td>25</td>\n",
       "      <td>9600</td>\n",
       "      <td>1.0</td>\n",
       "      <td>5500</td>\n",
       "      <td>12.87</td>\n",
       "      <td>1</td>\n",
       "      <td>0.57</td>\n",
       "      <td>0</td>\n",
       "      <td>3</td>\n",
       "      <td>1.0</td>\n",
       "      <td>1.0</td>\n",
       "      <td>2.0</td>\n",
       "    </tr>\n",
       "    <tr>\n",
       "      <th>3</th>\n",
       "      <td>23</td>\n",
       "      <td>65500</td>\n",
       "      <td>4.0</td>\n",
       "      <td>35000</td>\n",
       "      <td>15.23</td>\n",
       "      <td>1</td>\n",
       "      <td>0.53</td>\n",
       "      <td>0</td>\n",
       "      <td>2</td>\n",
       "      <td>0.0</td>\n",
       "      <td>1.0</td>\n",
       "      <td>2.0</td>\n",
       "    </tr>\n",
       "    <tr>\n",
       "      <th>4</th>\n",
       "      <td>24</td>\n",
       "      <td>54400</td>\n",
       "      <td>8.0</td>\n",
       "      <td>35000</td>\n",
       "      <td>14.27</td>\n",
       "      <td>1</td>\n",
       "      <td>0.55</td>\n",
       "      <td>1</td>\n",
       "      <td>4</td>\n",
       "      <td>0.0</td>\n",
       "      <td>1.0</td>\n",
       "      <td>2.0</td>\n",
       "    </tr>\n",
       "    <tr>\n",
       "      <th>...</th>\n",
       "      <td>...</td>\n",
       "      <td>...</td>\n",
       "      <td>...</td>\n",
       "      <td>...</td>\n",
       "      <td>...</td>\n",
       "      <td>...</td>\n",
       "      <td>...</td>\n",
       "      <td>...</td>\n",
       "      <td>...</td>\n",
       "      <td>...</td>\n",
       "      <td>...</td>\n",
       "      <td>...</td>\n",
       "    </tr>\n",
       "    <tr>\n",
       "      <th>32576</th>\n",
       "      <td>57</td>\n",
       "      <td>53000</td>\n",
       "      <td>1.0</td>\n",
       "      <td>5800</td>\n",
       "      <td>13.16</td>\n",
       "      <td>0</td>\n",
       "      <td>0.11</td>\n",
       "      <td>0</td>\n",
       "      <td>30</td>\n",
       "      <td>1.0</td>\n",
       "      <td>3.0</td>\n",
       "      <td>2.0</td>\n",
       "    </tr>\n",
       "    <tr>\n",
       "      <th>32577</th>\n",
       "      <td>54</td>\n",
       "      <td>120000</td>\n",
       "      <td>4.0</td>\n",
       "      <td>17625</td>\n",
       "      <td>7.49</td>\n",
       "      <td>0</td>\n",
       "      <td>0.15</td>\n",
       "      <td>0</td>\n",
       "      <td>19</td>\n",
       "      <td>1.0</td>\n",
       "      <td>3.0</td>\n",
       "      <td>0.0</td>\n",
       "    </tr>\n",
       "    <tr>\n",
       "      <th>32578</th>\n",
       "      <td>65</td>\n",
       "      <td>76000</td>\n",
       "      <td>3.0</td>\n",
       "      <td>35000</td>\n",
       "      <td>10.99</td>\n",
       "      <td>1</td>\n",
       "      <td>0.46</td>\n",
       "      <td>0</td>\n",
       "      <td>28</td>\n",
       "      <td>0.0</td>\n",
       "      <td>5.0</td>\n",
       "      <td>1.0</td>\n",
       "    </tr>\n",
       "    <tr>\n",
       "      <th>32579</th>\n",
       "      <td>56</td>\n",
       "      <td>150000</td>\n",
       "      <td>5.0</td>\n",
       "      <td>15000</td>\n",
       "      <td>11.48</td>\n",
       "      <td>0</td>\n",
       "      <td>0.10</td>\n",
       "      <td>0</td>\n",
       "      <td>26</td>\n",
       "      <td>1.0</td>\n",
       "      <td>3.0</td>\n",
       "      <td>1.0</td>\n",
       "    </tr>\n",
       "    <tr>\n",
       "      <th>32580</th>\n",
       "      <td>66</td>\n",
       "      <td>42000</td>\n",
       "      <td>2.0</td>\n",
       "      <td>6475</td>\n",
       "      <td>9.99</td>\n",
       "      <td>0</td>\n",
       "      <td>0.15</td>\n",
       "      <td>0</td>\n",
       "      <td>30</td>\n",
       "      <td>0.0</td>\n",
       "      <td>1.0</td>\n",
       "      <td>1.0</td>\n",
       "    </tr>\n",
       "  </tbody>\n",
       "</table>\n",
       "<p>32581 rows × 12 columns</p>\n",
       "</div>"
      ],
      "text/plain": [
       "       person_age  person_income  person_emp_length  loan_amnt  loan_int_rate  \\\n",
       "0              22          59000              123.0      35000          16.02   \n",
       "1              21           9600                5.0       1000          11.14   \n",
       "2              25           9600                1.0       5500          12.87   \n",
       "3              23          65500                4.0      35000          15.23   \n",
       "4              24          54400                8.0      35000          14.27   \n",
       "...           ...            ...                ...        ...            ...   \n",
       "32576          57          53000                1.0       5800          13.16   \n",
       "32577          54         120000                4.0      17625           7.49   \n",
       "32578          65          76000                3.0      35000          10.99   \n",
       "32579          56         150000                5.0      15000          11.48   \n",
       "32580          66          42000                2.0       6475           9.99   \n",
       "\n",
       "       loan_status  loan_percent_income  cb_person_default_on_file  \\\n",
       "0                1                 0.59                          1   \n",
       "1                0                 0.10                          0   \n",
       "2                1                 0.57                          0   \n",
       "3                1                 0.53                          0   \n",
       "4                1                 0.55                          1   \n",
       "...            ...                  ...                        ...   \n",
       "32576            0                 0.11                          0   \n",
       "32577            0                 0.15                          0   \n",
       "32578            1                 0.46                          0   \n",
       "32579            0                 0.10                          0   \n",
       "32580            0                 0.15                          0   \n",
       "\n",
       "       cb_person_cred_hist_length  home_own  loan_intentt  loan_gradee  \n",
       "0                               3       0.0           3.0          3.0  \n",
       "1                               2       2.0           0.0          1.0  \n",
       "2                               3       1.0           1.0          2.0  \n",
       "3                               2       0.0           1.0          2.0  \n",
       "4                               4       0.0           1.0          2.0  \n",
       "...                           ...       ...           ...          ...  \n",
       "32576                          30       1.0           3.0          2.0  \n",
       "32577                          19       1.0           3.0          0.0  \n",
       "32578                          28       0.0           5.0          1.0  \n",
       "32579                          26       1.0           3.0          1.0  \n",
       "32580                          30       0.0           1.0          1.0  \n",
       "\n",
       "[32581 rows x 12 columns]"
      ]
     },
     "execution_count": 30,
     "metadata": {},
     "output_type": "execute_result"
    }
   ],
   "source": [
    "data"
   ]
  },
  {
   "cell_type": "code",
   "execution_count": 32,
   "id": "7fae9214",
   "metadata": {},
   "outputs": [],
   "source": [
    "from sklearn.ensemble import RandomForestClassifier\n",
    "from sklearn.model_selection import train_test_split\n",
    "from sklearn import metrics"
   ]
  },
  {
   "cell_type": "code",
   "execution_count": 33,
   "id": "2f674a51",
   "metadata": {},
   "outputs": [],
   "source": [
    "X = data.drop(['loan_stat0.s'] , axis=1)\n",
    "y = data['loan_status']"
   ]
  },
  {
   "cell_type": "code",
   "execution_count": 41,
   "id": "aef8b46d",
   "metadata": {},
   "outputs": [
    {
     "name": "stdout",
     "output_type": "stream",
     "text": [
      "person_age                    False\n",
      "person_income                 False\n",
      "person_emp_length             False\n",
      "loan_amnt                     False\n",
      "loan_int_rate                 False\n",
      "loan_percent_income           False\n",
      "cb_person_default_on_file     False\n",
      "cb_person_cred_hist_length    False\n",
      "home_own                      False\n",
      "loan_intentt                  False\n",
      "loan_gradee                   False\n",
      "dtype: bool\n"
     ]
    }
   ],
   "source": [
    "missing_values = X.isna().any()\n",
    "print(missing_values)"
   ]
  },
  {
   "cell_type": "code",
   "execution_count": 40,
   "id": "1b954bad",
   "metadata": {},
   "outputs": [],
   "source": [
    "X['person_emp_length'].fillna(np.mean(X['person_emp_length']), inplace=True)\n",
    "X['loan_int_rate'].fillna(np.mean(X['loan_int_rate']), inplace=True)"
   ]
  },
  {
   "cell_type": "code",
   "execution_count": 42,
   "id": "2fae61d7",
   "metadata": {},
   "outputs": [],
   "source": [
    "X_train , X_test , y_train , y_test = train_test_split(X , y , test_size = 0.2 , random_state = 42)"
   ]
  },
  {
   "cell_type": "code",
   "execution_count": 43,
   "id": "f80a82e8",
   "metadata": {},
   "outputs": [],
   "source": [
    "rf = RandomForestClassifier(n_estimators=100 , min_samples_split = 10 , random_state=42 , min_samples_leaf = 4 , max_depth = 20)"
   ]
  },
  {
   "cell_type": "code",
   "execution_count": 44,
   "id": "d473fb5c",
   "metadata": {},
   "outputs": [
    {
     "data": {
      "text/html": [
       "<style>#sk-container-id-1 {color: black;}#sk-container-id-1 pre{padding: 0;}#sk-container-id-1 div.sk-toggleable {background-color: white;}#sk-container-id-1 label.sk-toggleable__label {cursor: pointer;display: block;width: 100%;margin-bottom: 0;padding: 0.3em;box-sizing: border-box;text-align: center;}#sk-container-id-1 label.sk-toggleable__label-arrow:before {content: \"▸\";float: left;margin-right: 0.25em;color: #696969;}#sk-container-id-1 label.sk-toggleable__label-arrow:hover:before {color: black;}#sk-container-id-1 div.sk-estimator:hover label.sk-toggleable__label-arrow:before {color: black;}#sk-container-id-1 div.sk-toggleable__content {max-height: 0;max-width: 0;overflow: hidden;text-align: left;background-color: #f0f8ff;}#sk-container-id-1 div.sk-toggleable__content pre {margin: 0.2em;color: black;border-radius: 0.25em;background-color: #f0f8ff;}#sk-container-id-1 input.sk-toggleable__control:checked~div.sk-toggleable__content {max-height: 200px;max-width: 100%;overflow: auto;}#sk-container-id-1 input.sk-toggleable__control:checked~label.sk-toggleable__label-arrow:before {content: \"▾\";}#sk-container-id-1 div.sk-estimator input.sk-toggleable__control:checked~label.sk-toggleable__label {background-color: #d4ebff;}#sk-container-id-1 div.sk-label input.sk-toggleable__control:checked~label.sk-toggleable__label {background-color: #d4ebff;}#sk-container-id-1 input.sk-hidden--visually {border: 0;clip: rect(1px 1px 1px 1px);clip: rect(1px, 1px, 1px, 1px);height: 1px;margin: -1px;overflow: hidden;padding: 0;position: absolute;width: 1px;}#sk-container-id-1 div.sk-estimator {font-family: monospace;background-color: #f0f8ff;border: 1px dotted black;border-radius: 0.25em;box-sizing: border-box;margin-bottom: 0.5em;}#sk-container-id-1 div.sk-estimator:hover {background-color: #d4ebff;}#sk-container-id-1 div.sk-parallel-item::after {content: \"\";width: 100%;border-bottom: 1px solid gray;flex-grow: 1;}#sk-container-id-1 div.sk-label:hover label.sk-toggleable__label {background-color: #d4ebff;}#sk-container-id-1 div.sk-serial::before {content: \"\";position: absolute;border-left: 1px solid gray;box-sizing: border-box;top: 0;bottom: 0;left: 50%;z-index: 0;}#sk-container-id-1 div.sk-serial {display: flex;flex-direction: column;align-items: center;background-color: white;padding-right: 0.2em;padding-left: 0.2em;position: relative;}#sk-container-id-1 div.sk-item {position: relative;z-index: 1;}#sk-container-id-1 div.sk-parallel {display: flex;align-items: stretch;justify-content: center;background-color: white;position: relative;}#sk-container-id-1 div.sk-item::before, #sk-container-id-1 div.sk-parallel-item::before {content: \"\";position: absolute;border-left: 1px solid gray;box-sizing: border-box;top: 0;bottom: 0;left: 50%;z-index: -1;}#sk-container-id-1 div.sk-parallel-item {display: flex;flex-direction: column;z-index: 1;position: relative;background-color: white;}#sk-container-id-1 div.sk-parallel-item:first-child::after {align-self: flex-end;width: 50%;}#sk-container-id-1 div.sk-parallel-item:last-child::after {align-self: flex-start;width: 50%;}#sk-container-id-1 div.sk-parallel-item:only-child::after {width: 0;}#sk-container-id-1 div.sk-dashed-wrapped {border: 1px dashed gray;margin: 0 0.4em 0.5em 0.4em;box-sizing: border-box;padding-bottom: 0.4em;background-color: white;}#sk-container-id-1 div.sk-label label {font-family: monospace;font-weight: bold;display: inline-block;line-height: 1.2em;}#sk-container-id-1 div.sk-label-container {text-align: center;}#sk-container-id-1 div.sk-container {/* jupyter's `normalize.less` sets `[hidden] { display: none; }` but bootstrap.min.css set `[hidden] { display: none !important; }` so we also need the `!important` here to be able to override the default hidden behavior on the sphinx rendered scikit-learn.org. See: https://github.com/scikit-learn/scikit-learn/issues/21755 */display: inline-block !important;position: relative;}#sk-container-id-1 div.sk-text-repr-fallback {display: none;}</style><div id=\"sk-container-id-1\" class=\"sk-top-container\"><div class=\"sk-text-repr-fallback\"><pre>RandomForestClassifier(max_depth=20, min_samples_leaf=4, min_samples_split=10,\n",
       "                       random_state=42)</pre><b>In a Jupyter environment, please rerun this cell to show the HTML representation or trust the notebook. <br />On GitHub, the HTML representation is unable to render, please try loading this page with nbviewer.org.</b></div><div class=\"sk-container\" hidden><div class=\"sk-item\"><div class=\"sk-estimator sk-toggleable\"><input class=\"sk-toggleable__control sk-hidden--visually\" id=\"sk-estimator-id-1\" type=\"checkbox\" checked><label for=\"sk-estimator-id-1\" class=\"sk-toggleable__label sk-toggleable__label-arrow\">RandomForestClassifier</label><div class=\"sk-toggleable__content\"><pre>RandomForestClassifier(max_depth=20, min_samples_leaf=4, min_samples_split=10,\n",
       "                       random_state=42)</pre></div></div></div></div></div>"
      ],
      "text/plain": [
       "RandomForestClassifier(max_depth=20, min_samples_leaf=4, min_samples_split=10,\n",
       "                       random_state=42)"
      ]
     },
     "execution_count": 44,
     "metadata": {},
     "output_type": "execute_result"
    }
   ],
   "source": [
    "rf.fit(X_train , y_train)"
   ]
  },
  {
   "cell_type": "code",
   "execution_count": 45,
   "id": "795bee7c",
   "metadata": {},
   "outputs": [],
   "source": [
    "y_pred = rf.predict(X_test)"
   ]
  },
  {
   "cell_type": "code",
   "execution_count": 46,
   "id": "b29999a1",
   "metadata": {},
   "outputs": [
    {
     "name": "stdout",
     "output_type": "stream",
     "text": [
      "Accuracy: 0.927880926806813\n"
     ]
    }
   ],
   "source": [
    "from sklearn.metrics import accuracy_score\n",
    "\n",
    "accuracy = accuracy_score(y_test, y_pred)\n",
    "print(\"Accuracy:\", accuracy)"
   ]
  },
  {
   "cell_type": "code",
   "execution_count": 54,
   "id": "fd810255",
   "metadata": {},
   "outputs": [
    {
     "name": "stdout",
     "output_type": "stream",
     "text": [
      "<class 'pandas.core.frame.DataFrame'>\n",
      "RangeIndex: 32581 entries, 0 to 32580\n",
      "Data columns (total 11 columns):\n",
      " #   Column                      Non-Null Count  Dtype  \n",
      "---  ------                      --------------  -----  \n",
      " 0   person_age                  32581 non-null  int64  \n",
      " 1   person_income               32581 non-null  int64  \n",
      " 2   person_emp_length           32581 non-null  float64\n",
      " 3   loan_amnt                   32581 non-null  int64  \n",
      " 4   loan_int_rate               32581 non-null  float64\n",
      " 5   loan_percent_income         32581 non-null  float64\n",
      " 6   cb_person_default_on_file   32581 non-null  int32  \n",
      " 7   cb_person_cred_hist_length  32581 non-null  int64  \n",
      " 8   home_own                    32581 non-null  float64\n",
      " 9   loan_intentt                32581 non-null  float64\n",
      " 10  loan_gradee                 32581 non-null  float64\n",
      "dtypes: float64(6), int32(1), int64(4)\n",
      "memory usage: 2.6 MB\n"
     ]
    }
   ],
   "source": [
    "X.info()"
   ]
  },
  {
   "cell_type": "code",
   "execution_count": 47,
   "id": "60dae70b",
   "metadata": {},
   "outputs": [
    {
     "data": {
      "image/png": "[encoded data removed]",
      "text/plain": [
       "<Figure size 640x480 with 1 Axes>"
      ]
     },
     "metadata": {},
     "output_type": "display_data"
    }
   ],
   "source": [
    "y_pred_proba = rf.predict_proba(X_test)[::,1]\n",
    "fpr, tpr, _ = metrics.roc_curve(y_test,  y_pred_proba)\n",
    "auc = metrics.roc_auc_score(y_test, y_pred_proba)\n",
    "plt.plot(fpr,tpr,label=\"AUC=\"+str(auc))\n",
    "plt.legend(loc=4)\n",
    "plt.show()"
   ]
  },
  {
   "cell_type": "code",
   "execution_count": 48,
   "id": "f1ff663a",
   "metadata": {},
   "outputs": [
    {
     "data": {
      "image/png": "[encoded data removed]",
      "text/plain": [
       "<Figure size 1200x800 with 1 Axes>"
      ]
     },
     "metadata": {},
     "output_type": "display_data"
    }
   ],
   "source": [
    "feature_importances = rf.feature_importances_\n",
    "feature_names = X_train.columns\n",
    "\n",
    "importance_df = pd.DataFrame({'Feature': feature_names, 'Importance': feature_importances})\n",
    "\n",
    "importance_df = importance_df.sort_values(by='Importance', ascending=False)\n",
    "\n",
    "plt.figure(figsize=(12, 8))\n",
    "plt.barh(importance_df['Feature'], importance_df['Importance'])\n",
    "plt.xlabel('Важность признака')\n",
    "plt.ylabel('Признак')\n",
    "plt.title('Важность признаков в модели RandomForestClassifier')\n",
    "plt.show()"
   ]
  },
  {
   "cell_type": "code",
   "execution_count": 49,
   "id": "2f86fdc3",
   "metadata": {},
   "outputs": [],
   "source": [
    "import pickle"
   ]
  },
  {
   "cell_type": "code",
   "execution_count": 50,
   "id": "575524be",
   "metadata": {},
   "outputs": [],
   "source": [
    "pickle_out = open(\"CreditScoring.pkl\" , \"wb\")"
   ]
  },
  {
   "cell_type": "code",
   "execution_count": 51,
   "id": "2b75fc46",
   "metadata": {},
   "outputs": [],
   "source": [
    "pickle.dump(rf , pickle_out)"
   ]
  },
  {
   "cell_type": "code",
   "execution_count": 52,
   "id": "ff958393",
   "metadata": {},
   "outputs": [],
   "source": [
    "pickle_out.close()"
   ]
  },
  {
   "cell_type": "code",
   "execution_count": null,
   "id": "4285e0a2",
   "metadata": {},
   "outputs": [],
   "source": []
  }
 ],
 "metadata": {
  "kernelspec": {
   "display_name": "Python 3 (ipykernel)",
   "language": "python",
   "name": "python3"
  },
  "language_info": {
   "codemirror_mode": {
    "name": "ipython",
    "version": 3
   },
   "file_extension": ".py",
   "mimetype": "text/x-python",
   "name": "python",
   "nbconvert_exporter": "python",
   "pygments_lexer": "ipython3",
   "version": "3.11.5"
  }
 },
 "nbformat": 4,
 "nbformat_minor": 5
}
